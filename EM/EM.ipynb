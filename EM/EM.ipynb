{
 "cells": [
  {
   "cell_type": "code",
   "execution_count": 102,
   "metadata": {},
   "outputs": [],
   "source": [
    "import numpy as np\n",
    "data = np.array(\n",
    "    [\n",
    "        [1, 1, 0, 1, 0],\n",
    "        [0, 0, 1, 1, 0],\n",
    "        [1, 0, 0, 0, 0],\n",
    "        [1, 0, 0, 1, 1],\n",
    "        [0, 1, 1, 0, 0],\n",
    "    ],\n",
    ")\n",
    "# p = np.array([[0.2, 0.8], [0.7, 0.3]])\n",
    "thetas = np.array([0.2, 0.7])\n",
    "# thetas (prob of A pos, prob of B pos)\n",
    "pis = np.array([0.5, 0.5])\n",
    "# pis (prob of A, prob of B)\n",
    "coin_num, dive_times = data.shape\n",
    "epoch = 5"
   ]
  },
  {
   "cell_type": "code",
   "execution_count": 103,
   "metadata": {},
   "outputs": [
    {
     "name": "stdout",
     "output_type": "stream",
     "text": [
      "[0.3465478  0.52870588]\n",
      "[0.3995679  0.47972408]\n",
      "[0.42188967 0.45808504]\n",
      "[0.43178479 0.4482145 ]\n",
      "[0.43626703 0.44373294]\n"
     ]
    }
   ],
   "source": [
    "for iter in range(epoch):\n",
    "    t = (\n",
    "        thetas[:, None, None]\n",
    "        .repeat(repeats=coin_num, axis=1)\n",
    "        .repeat(repeats=dive_times, axis=2)\n",
    "    )\n",
    "    log_like = (np.log(t) * data + np.log(1 - t) * (1 - data)).sum(axis=-1)\n",
    "    # log_like [state_num, coin_num]\n",
    "    like = np.exp(log_like)\n",
    "    like = like * pis[:, None].repeat(dive_times, 1)\n",
    "    like_norm = like / like.sum(0)\n",
    "    # like_norm [state_num, coin_num]\n",
    "    expect_dives = like_norm.sum(1) * dive_times\n",
    "    # expect_dives [state_num], expect_coins in each state\n",
    "    like_norm = like_norm[:, :, None].repeat(repeats=dive_times, axis=-1)\n",
    "    expect_pos = (like_norm * data).sum(-1).sum(-1)\n",
    "    # expect_pos [state_num], expect_pos_coin in each state\n",
    "    thetas = expect_pos / expect_dives\n",
    "    print(thetas)"
   ]
  }
 ],
 "metadata": {
  "kernelspec": {
   "display_name": "torch",
   "language": "python",
   "name": "python3"
  },
  "language_info": {
   "codemirror_mode": {
    "name": "ipython",
    "version": 3
   },
   "file_extension": ".py",
   "mimetype": "text/x-python",
   "name": "python",
   "nbconvert_exporter": "python",
   "pygments_lexer": "ipython3",
   "version": "3.11.5"
  }
 },
 "nbformat": 4,
 "nbformat_minor": 2
}
